{
  "nbformat": 4,
  "nbformat_minor": 0,
  "metadata": {
    "colab": {
      "provenance": [],
      "authorship_tag": "ABX9TyOmM9gtJx0Tye0HApChO0Oc",
      "include_colab_link": true
    },
    "kernelspec": {
      "name": "python3",
      "display_name": "Python 3"
    },
    "language_info": {
      "name": "python"
    }
  },
  "cells": [
    {
      "cell_type": "markdown",
      "metadata": {
        "id": "view-in-github",
        "colab_type": "text"
      },
      "source": [
        "<a href=\"https://colab.research.google.com/github/jeonhyeonjoon1/BP_10_Ch7/blob/main/BP_10_EX_Ch7.ipynb\" target=\"_parent\"><img src=\"https://colab.research.google.com/assets/colab-badge.svg\" alt=\"Open In Colab\"/></a>"
      ]
    },
    {
      "cell_type": "code",
      "execution_count": 2,
      "metadata": {
        "colab": {
          "base_uri": "https://localhost:8080/"
        },
        "id": "JqDj8v_R-nWP",
        "outputId": "e3eb976b-0729-4ecc-a8ed-85bed97f9f24"
      },
      "outputs": [
        {
          "output_type": "stream",
          "name": "stdout",
          "text": [
            "서울 특별시 종로구 1번지\n",
            "파이썬 빌딩 7층\n",
            "홍길동\n"
          ]
        }
      ],
      "source": [
        "def print_address():                 # print_address를 아래 들여쓰기된 문장들로 선언\n",
        "  print(\"서울 특별시 종로구 1번지\")\n",
        "  print(\"파이썬 빌딩 7층\")\n",
        "  print(\"홍길동\")\n",
        "print_address()"
      ]
    }
  ]
}