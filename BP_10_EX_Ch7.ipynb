{
  "nbformat": 4,
  "nbformat_minor": 0,
  "metadata": {
    "colab": {
      "provenance": [],
      "authorship_tag": "ABX9TyPYL11V7qfxwOxxlso+RvPi",
      "include_colab_link": true
    },
    "kernelspec": {
      "name": "python3",
      "display_name": "Python 3"
    },
    "language_info": {
      "name": "python"
    }
  },
  "cells": [
    {
      "cell_type": "markdown",
      "metadata": {
        "id": "view-in-github",
        "colab_type": "text"
      },
      "source": [
        "<a href=\"https://colab.research.google.com/github/jeonhyeonjoon1/BP_10_Ch7/blob/main/BP_10_EX_Ch7.ipynb\" target=\"_parent\"><img src=\"https://colab.research.google.com/assets/colab-badge.svg\" alt=\"Open In Colab\"/></a>"
      ]
    },
    {
      "cell_type": "code",
      "source": [
        "import turtle\n",
        "t = turtle.Turtle()\n",
        "t.shape(\"turtle\")\n",
        "t.color(\"black\", \"white\")\n",
        "s = turtle.Screen(); s.bgcolor('skyblue');\n",
        "def draw_snowman(x, y):\n",
        " t.up()\n",
        " t.goto(x, y)\n",
        " t.down()\n",
        " t.begin_fill()\n",
        " t.circle(20)\n",
        " t.end_fill()\n",
        " t.goto(x, y-25)\n",
        " t.setheading(135)\n",
        " t.forward(50)\n",
        " t.backward(50)\n",
        " t.setheading(30)\n",
        " t.forward(50)\n",
        " t.backward(50)\n",
        " t.setheading(0)\n",
        " t.begin_fill()\n",
        " t.circle(15)\n",
        " t.end_fill()\n",
        " t.goto(x, y-70)\n",
        " t.begin_fill()\n",
        " t.circle(30)\n",
        " t.end_fill()\n",
        "draw_snowman(0, 0)\n",
        "draw_snowman(100, 0)\n",
        "draw_snowman(200, 0)"
      ],
      "metadata": {
        "id": "18u4UtDuKngJ"
      },
      "execution_count": null,
      "outputs": []
    },
    {
      "cell_type": "code",
      "source": [],
      "metadata": {
        "id": "UO_fvhYfMSDm"
      },
      "execution_count": null,
      "outputs": []
    }
  ]
}