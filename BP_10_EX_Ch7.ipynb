{
  "nbformat": 4,
  "nbformat_minor": 0,
  "metadata": {
    "colab": {
      "provenance": [],
      "include_colab_link": true
    },
    "kernelspec": {
      "name": "python3",
      "display_name": "Python 3"
    },
    "language_info": {
      "name": "python"
    }
  },
  "cells": [
    {
      "cell_type": "markdown",
      "metadata": {
        "id": "view-in-github",
        "colab_type": "text"
      },
      "source": [
        "<a href=\"https://colab.research.google.com/github/jeonhyeonjoon1/BP_10_Ch7/blob/main/BP_10_EX_Ch7.ipynb\" target=\"_parent\"><img src=\"https://colab.research.google.com/assets/colab-badge.svg\" alt=\"Open In Colab\"/></a>"
      ]
    },
    {
      "cell_type": "code",
      "source": [
        "import turtle                         #터틀 그래픽을 불러옴\n",
        "t = turtle.Turtle()                   #변수t에 turtle.Turtle()을 저장\n",
        "t.shape(\"turtle\")\n",
        "t.color(\"black\", \"white\")\n",
        "s = turtle.Screen(); s.bgcolor('skyblue');\n",
        "def draw_snowman(x, y):\n",
        " t.up()\n",
        " t.goto(x, y)\n",
        " t.down()\n",
        " t.begin_fill()\n",
        " t.circle(20)\n",
        " t.end_fill()\n",
        " t.goto(x, y-25)\n",
        " t.setheading(135)\n",
        " t.forward(50)\n",
        " t.backward(50)\n",
        " t.setheading(30)\n",
        " t.forward(50)\n",
        " t.backward(50)\n",
        " t.setheading(0)\n",
        " t.begin_fill()\n",
        " t.circle(15)\n",
        " t.end_fill()\n",
        " t.goto(x, y-70)\n",
        " t.begin_fill()\n",
        " t.circle(30)\n",
        " t.end_fill()\n",
        "draw_snowman(0, 0)\n",
        "draw_snowman(100, 0)\n",
        "draw_snowman(200, 0)"
      ],
      "metadata": {
        "id": "18u4UtDuKngJ"
      },
      "execution_count": null,
      "outputs": []
    },
    {
      "cell_type": "code",
      "source": [
        "import turtle\n",
        "t = turtle.Turtle()\n",
        "t.shape(\"turtle\")\n",
        "def hexagon():\n",
        " for i in range(6):\n",
        "  t.forward(100)\n",
        "  t.left(360/6)\n",
        "for i in range (6):\n",
        " hexagon()\n",
        " t.forward(100)\n",
        " t.right(60)\n"
      ],
      "metadata": {
        "id": "UO_fvhYfMSDm"
      },
      "execution_count": null,
      "outputs": []
    },
    {
      "cell_type": "code",
      "source": [
        "import turtle\n",
        "t = turtle.Turtle()\n",
        "t.shape(\"turtle\")\n",
        "t.speed(0)\n",
        "def f(x):\n",
        " return x**2+1\n",
        "t.goto(200, 0)\n",
        "t.goto(0, 0)\n",
        "t.goto(0, 200)\n",
        "t.goto(0, 0)\n",
        "for x in range(150):\n",
        " t.goto(x, int(0.01*f(x)))\n"
      ],
      "metadata": {
        "id": "9iwzM7RNO2pl"
      },
      "execution_count": null,
      "outputs": []
    },
    {
      "cell_type": "code",
      "source": [
        "import turtle\n",
        "t = turtle.Turtle()\n",
        "t.shape(\"turtle\")\n",
        "t.speed(0)\n",
        "def draw_line():\n",
        " t.forward(100)\n",
        " t.backward(100)\n",
        "for x in range(12):\n",
        " t.right(30)\n",
        " draw_line()"
      ],
      "metadata": {
        "id": "1Ck-gJwtPTcX"
      },
      "execution_count": null,
      "outputs": []
    },
    {
      "cell_type": "code",
      "source": [
        "def happyBirthday(person):\n",
        " print(\"Happy Birthday to you!\")\n",
        " print(\"Happy Birthday to you!\")\n",
        " print(\"Happy Birthday, dear \" + person)\n",
        " print(\"Happy Birthday to you!\")\n",
        "happyBirthday(\"홍길동\")"
      ],
      "metadata": {
        "id": "66kUkFSOPfI5"
      },
      "execution_count": null,
      "outputs": []
    },
    {
      "cell_type": "code",
      "source": [
        "def sumProblem(x, y):\n",
        " sum = x + y\n",
        " sentence = \"정수\" + str(x) + \"+\"+str(y)+\"의 합은?\"\n",
        " print(sentence)\n",
        "def main():\n",
        " a = int(input(\"첫 번째 정수: \"))\n",
        " b = int(input(\"두 번째 정수: \"))\n",
        " sumProblem(a, b)\n",
        "main()"
      ],
      "metadata": {
        "colab": {
          "base_uri": "https://localhost:8080/"
        },
        "id": "nTgdpf4ePiTJ",
        "outputId": "faf045f4-6508-4714-a8e6-bcaba43eb562"
      },
      "execution_count": null,
      "outputs": [
        {
          "output_type": "stream",
          "name": "stdout",
          "text": [
            "첫 번째 정수: 10\n",
            "두 번째 정수: 20\n",
            "정수10+20의 합은?\n"
          ]
        }
      ]
    },
    {
      "cell_type": "code",
      "source": [
        "PI = 3.14159265358979\n",
        "def circleArea(radius):\n",
        " return PI*radius*radius\n",
        "def circleCircumference(radius):\n",
        " return 2*PI*radius\n",
        "def main():\n",
        " print('반지름이 5인 원의 면적:', circleArea(5))\n",
        " print('반지름이 5인 원의 둘레:', circleCircumference(5))\n",
        "main()"
      ],
      "metadata": {
        "colab": {
          "base_uri": "https://localhost:8080/"
        },
        "id": "xPoKP-N9Pp1Z",
        "outputId": "8c376467-b0f4-411c-bdef-54ed92594c4a"
      },
      "execution_count": null,
      "outputs": [
        {
          "output_type": "stream",
          "name": "stdout",
          "text": [
            "반지름이 5인 원의 면적: 78.53981633974475\n",
            "반지름이 5인 원의 둘레: 31.4159265358979\n"
          ]
        }
      ]
    },
    {
      "cell_type": "code",
      "source": [
        "def add(a, b):\n",
        " print( \"(%d + %d)\" % (a, b), end=\" \")\n",
        " return a + b\n",
        "def subtract(a, b):\n",
        " print (\"(%d - %d)\" % (a, b), end=\" \")\n",
        " return a - b\n",
        "def multiply(a, b):\n",
        " print (\"(%d * %d)\" % (a, b), end=\" \")\n",
        " return a * b\n",
        "def divide(a, b):\n",
        " print (\"(%d / %d)\" % (a, b), end=\" \")\n",
        " return a / b\n",
        "what = add(20, 10)\n",
        "print(\"= \", what)"
      ],
      "metadata": {
        "colab": {
          "base_uri": "https://localhost:8080/"
        },
        "id": "b8l_HckPPtaT",
        "outputId": "01f9227e-bac1-4b6a-ba48-fca4e6dfc9bc"
      },
      "execution_count": null,
      "outputs": [
        {
          "output_type": "stream",
          "name": "stdout",
          "text": [
            "(20 + 10) =  30\n"
          ]
        }
      ]
    }
  ]
}