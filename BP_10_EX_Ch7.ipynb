{
  "nbformat": 4,
  "nbformat_minor": 0,
  "metadata": {
    "colab": {
      "provenance": [],
      "include_colab_link": true
    },
    "kernelspec": {
      "name": "python3",
      "display_name": "Python 3"
    },
    "language_info": {
      "name": "python"
    }
  },
  "cells": [
    {
      "cell_type": "markdown",
      "metadata": {
        "id": "view-in-github",
        "colab_type": "text"
      },
      "source": [
        "<a href=\"https://colab.research.google.com/github/jeonhyeonjoon1/BP_10_Ch7/blob/main/BP_10_EX_Ch7.ipynb\" target=\"_parent\"><img src=\"https://colab.research.google.com/assets/colab-badge.svg\" alt=\"Open In Colab\"/></a>"
      ]
    },
    {
      "cell_type": "code",
      "source": [
        "import turtle                     #터틀 그래픽을 불러옴\n",
        "t = turtle.Turtle()               #변수t에 turtle.Turtle()을 저장\n",
        "t.shape(\"turtle\")                 #펜 모양을 거북이로 설정\n",
        "t.color(\"black\", \"white\")         #펜 테두리색을 검정색, 내부색칠 색은 하얀색으로 설정\n",
        "s = turtle.Screen(); s.bgcolor('skyblue'); #배경색을 'skyblue'색으로 설정\n",
        "def draw_snowman(x, y):           #다음 들여쓰기된 내용을 draw_snowman으로 규정\n",
        " t.up()              #펜을 듬                  \n",
        " t.goto(x, y)        #x,y로 펜을 이동\n",
        " t.down()            #펜을 내림\n",
        " t.begin_fill()      #색을 칠하는 시작지점\n",
        " t.circle(20)        #반지름이 20인 원을 그림\n",
        " t.end_fill()        #색을 채우는 끝 부분\n",
        " t.goto(x, y-25)     #해당 좌표로 펜을 이동\n",
        " t.setheading(135)   #135도 방향으로 머리를 돌림\n",
        " t.forward(50)       #앞으로 50만큼이동\n",
        " t.backward(50)      #뒤로 50만큼 이동\n",
        " t.setheading(30)    #30도 방향으로 머리를 돌림\n",
        " t.forward(50)       #앞으로 50만큼이동    \n",
        " t.backward(50)      #뒤로 50만큼이동\n",
        " t.setheading(0)     #0도 방향으로 머리를 돌림\n",
        " t.begin_fill()      #색을 채우는 시작지점\n",
        " t.circle(15)        #반지름이 15인 원을 그림\n",
        " t.end_fill()        #색을 채우는 끝 지점\n",
        " t.goto(x, y-70)     #해당 좌표로 펜을 이동\n",
        " t.begin_fill()      #색을 채우는 시작지점\n",
        " t.circle(30)        #반지름이 30인 원을 그림\n",
        " t.end_fill()        #색을 채우는 끝 지점\n",
        "draw_snowman(0, 0)   #규정된 내용을 해당 좌표에서 실행\n",
        "draw_snowman(100, 0)\n",
        "draw_snowman(200, 0)"
      ],
      "metadata": {
        "id": "18u4UtDuKngJ"
      },
      "execution_count": null,
      "outputs": []
    },
    {
      "cell_type": "code",
      "source": [
        "import turtle       #터틀그래픽을 불러옴\n",
        "t = turtle.Turtle() #t라는 변수에 해당 값을 저장\n",
        "t.shape(\"turtle\")   #펜 모양을 거북이로 설정\n",
        "def hexagon():      #다음 들여쓰기 된 모든 부분들을 'hexagon'으로 규정\n",
        " for i in range(6): #6번 반복\n",
        "  t.forward(100)    #앞으로 100만큼 이동\n",
        "  t.left(360/6)     #왼쪽방향으로 60만큼 돌림 \n",
        "for i in range (6): #6번 반복\n",
        " hexagon()          #hexagon으로 규정된 내용들을 실행\n",
        " t.forward(100)     #앞으로 100만큼 이동\n",
        " t.right(60)        #오른쪽 방향으로 60만큼 돌림\n"
      ],
      "metadata": {
        "id": "UO_fvhYfMSDm"
      },
      "execution_count": null,
      "outputs": []
    },
    {
      "cell_type": "code",
      "source": [
        "import turtle       #터틀그래픽을 불러옴\n",
        "t = turtle.Turtle() #변수t에 해당 값을 저장\n",
        "t.shape(\"turtle\")   #펜 모양을 거북이로 설정\n",
        "t.speed(0)          #펜 속도를 0으로 설정\n",
        "def f(x):           #다음 들여쓰기 된 부분을 f(x)로 규정\n",
        " return x**2+1      #x**2+1 값을 반환함\n",
        "t.goto(200, 0)      #해당 좌표로 이동\n",
        "t.goto(0, 0)        \n",
        "t.goto(0, 200)\n",
        "t.goto(0, 0)\n",
        "for x in range(150):  #x를 150만큼 반복\n",
        " t.goto(x, int(0.01*f(x)))  #해당 좌표로 이동,int를 사용해 정수형으로 변환\n"
      ],
      "metadata": {
        "id": "9iwzM7RNO2pl"
      },
      "execution_count": null,
      "outputs": []
    },
    {
      "cell_type": "code",
      "source": [
        "import turtle       #터틀 그래픽을 불러옴\n",
        "t = turtle.Turtle() #변수t에 해당 값을 저장\n",
        "t.shape(\"turtle\")   #펜 모양을 거북이로 설정\n",
        "t.speed(0)          #펜 속도를 0으로 설정\n",
        "def draw_line():    #draw_line을 들여쓰기된 값으로 규정\n",
        " t.forward(100)     #앞으로 100만큼 이동\n",
        " t.backward(100)    #뒤로 100만큼 이동\n",
        "for x in range(12): #x를 12만큼 반복\n",
        " t.right(30)        #오른쪽으로 30만큼 회전 \n",
        " draw_line()        #규정된 해당 함수를 실행"
      ],
      "metadata": {
        "id": "1Ck-gJwtPTcX"
      },
      "execution_count": null,
      "outputs": []
    },
    {
      "cell_type": "code",
      "source": [
        "def happyBirthday(person):           #다음 들여쓰기 된부분을 happyBirthday로 규정, person을 매개변수로 설정\n",
        " print(\"Happy Birthday to you!\")     #괄호안 내용을 출력\n",
        " print(\"Happy Birthday to you!\")\n",
        " print(\"Happy Birthday, dear \" + person) #출력내용에 매개변수를 사용\n",
        " print(\"Happy Birthday to you!\")\n",
        "happyBirthday(\"홍길동\")              #설정된happyBirthday를 실행하고 매개변수는 \"홍길동\"으로 실행"
      ],
      "metadata": {
        "id": "66kUkFSOPfI5",
        "colab": {
          "base_uri": "https://localhost:8080/"
        },
        "outputId": "a18f9727-8e85-4b21-e6ee-2c95c5ec4d9f"
      },
      "execution_count": 1,
      "outputs": [
        {
          "output_type": "stream",
          "name": "stdout",
          "text": [
            "Happy Birthday to you!\n",
            "Happy Birthday to you!\n",
            "Happy Birthday, dear 홍길동\n",
            "Happy Birthday to you!\n"
          ]
        }
      ]
    },
    {
      "cell_type": "code",
      "source": [
        "def sumProblem(x, y):            #sumProblem(x,y)를 들여쓰기된 부분으로 규정, x,y는 매개변수\n",
        " sum = x + y                     #변수sum에 해당값을 저장\n",
        " sentence = \"정수\" + str(x) + \"+\"+str(y)+\"의 합은?\" #변수sentence에 해당 값을 저장 str을 사용해 해당 값을 문자열로 변환\n",
        " print(sentence)                 #해당 값을 출력\n",
        "def main():                      #main을 들여쓰기된 부분으로 규정\n",
        " a = int(input(\"첫 번째 정수: \")) #a에 해당값을 저장 사용자에게 값을 받고 그 값을 숫자열로 변환\n",
        " b = int(input(\"두 번째 정수: \")) #b에 해당값을 저장 사용자에게 값을 받고 그 값을 숫자열로 변환\n",
        " sumProblem(a, b)                #규정된 함수를 실행\n",
        "main()                           #규정된 함수를 실행"
      ],
      "metadata": {
        "colab": {
          "base_uri": "https://localhost:8080/"
        },
        "id": "nTgdpf4ePiTJ",
        "outputId": "faf045f4-6508-4714-a8e6-bcaba43eb562"
      },
      "execution_count": null,
      "outputs": [
        {
          "output_type": "stream",
          "name": "stdout",
          "text": [
            "첫 번째 정수: 10\n",
            "두 번째 정수: 20\n",
            "정수10+20의 합은?\n"
          ]
        }
      ]
    },
    {
      "cell_type": "code",
      "source": [
        "PI = 3.14159265358979\n",
        "def circleArea(radius):\n",
        " return PI*radius*radius\n",
        "def circleCircumference(radius):\n",
        " return 2*PI*radius\n",
        "def main():\n",
        " print('반지름이 5인 원의 면적:', circleArea(5))\n",
        " print('반지름이 5인 원의 둘레:', circleCircumference(5))\n",
        "main()"
      ],
      "metadata": {
        "colab": {
          "base_uri": "https://localhost:8080/"
        },
        "id": "xPoKP-N9Pp1Z",
        "outputId": "8c376467-b0f4-411c-bdef-54ed92594c4a"
      },
      "execution_count": null,
      "outputs": [
        {
          "output_type": "stream",
          "name": "stdout",
          "text": [
            "반지름이 5인 원의 면적: 78.53981633974475\n",
            "반지름이 5인 원의 둘레: 31.4159265358979\n"
          ]
        }
      ]
    },
    {
      "cell_type": "code",
      "source": [
        "def add(a, b):                           \n",
        " print( \"(%d + %d)\" % (a, b), end=\" \")\n",
        " return a + b\n",
        "def subtract(a, b):\n",
        " print (\"(%d - %d)\" % (a, b), end=\" \")\n",
        " return a - b\n",
        "def multiply(a, b):\n",
        " print (\"(%d * %d)\" % (a, b), end=\" \")\n",
        " return a * b\n",
        "def divide(a, b):\n",
        " print (\"(%d / %d)\" % (a, b), end=\" \")\n",
        " return a / b\n",
        "what = add(20, 10)\n",
        "print(\"= \", what)"
      ],
      "metadata": {
        "colab": {
          "base_uri": "https://localhost:8080/"
        },
        "id": "b8l_HckPPtaT",
        "outputId": "01f9227e-bac1-4b6a-ba48-fca4e6dfc9bc"
      },
      "execution_count": null,
      "outputs": [
        {
          "output_type": "stream",
          "name": "stdout",
          "text": [
            "(20 + 10) =  30\n"
          ]
        }
      ]
    }
  ]
}